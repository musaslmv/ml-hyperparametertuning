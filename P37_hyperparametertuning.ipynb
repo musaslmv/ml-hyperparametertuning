{
  "nbformat": 4,
  "nbformat_minor": 0,
  "metadata": {
    "kernelspec": {
      "display_name": "Python 3",
      "language": "python",
      "name": "python3"
    },
    "language_info": {
      "codemirror_mode": {
        "name": "ipython",
        "version": 3
      },
      "file_extension": ".py",
      "mimetype": "text/x-python",
      "name": "python",
      "nbconvert_exporter": "python",
      "pygments_lexer": "ipython3",
      "version": "3.7.6"
    },
    "colab": {
      "name": "P37-hyperparametertuning.ipynb",
      "provenance": [],
      "collapsed_sections": []
    }
  },
  "cells": [
    {
      "cell_type": "code",
      "metadata": {
        "id": "ldM9dsAlkDhH"
      },
      "source": [
        "import numpy as np\n",
        "import matplotlib.pyplot as plt\n",
        "from sklearn.linear_model import LogisticRegression\n",
        "from sklearn.model_selection import train_test_split"
      ],
      "execution_count": null,
      "outputs": []
    },
    {
      "cell_type": "code",
      "source": [
        "import os\n",
        "import numpy as np\n",
        "import pandas as pd\n",
        "import seaborn as sns\n",
        "from time import time\n",
        "from sklearn.metrics import accuracy_score\n",
        "from sklearn.linear_model import LogisticRegression\n",
        "import matplotlib.pyplot as plt\n",
        "%matplotlib inline"
      ],
      "metadata": {
        "id": "w4-4RlmHLh_W"
      },
      "execution_count": null,
      "outputs": []
    },
    {
      "cell_type": "markdown",
      "source": [
        "**Relatively small data**"
      ],
      "metadata": {
        "id": "CE4Z75CqGRBI"
      }
    },
    {
      "cell_type": "code",
      "metadata": {
        "id": "vb-uqzEmkDhI"
      },
      "source": [
        "m = 10 # number of features\n",
        "n = 1000 # number of instances in dataset"
      ],
      "execution_count": null,
      "outputs": []
    },
    {
      "cell_type": "code",
      "metadata": {
        "id": "RbF28qzHkDhJ"
      },
      "source": [
        "data = np.random.normal(0, 1, (n, m))"
      ],
      "execution_count": null,
      "outputs": []
    },
    {
      "cell_type": "code",
      "metadata": {
        "id": "3uQ2rDz_kDhJ"
      },
      "source": [
        "b = np.random.normal(0, 1)\n",
        "w = np.random.normal(0, 1, m)"
      ],
      "execution_count": null,
      "outputs": []
    },
    {
      "cell_type": "code",
      "metadata": {
        "id": "suuxpd_ekDhJ"
      },
      "source": [
        "# Here we predefine our label generator\n",
        "\n",
        "def bayes_model(x, w, b):\n",
        "    \"\"\"\n",
        "    Input: feature x\n",
        "    Output: probabilty p to be positive\n",
        "    \"\"\"\n",
        "    return 1/(1+np.exp(-(np.dot(x, w) + b)))"
      ],
      "execution_count": null,
      "outputs": []
    },
    {
      "cell_type": "code",
      "metadata": {
        "id": "MyzKSSqnkDhJ",
        "colab": {
          "base_uri": "https://localhost:8080/",
          "height": 352
        },
        "outputId": "9a76bb18-e575-469f-ab15-76baba825436"
      },
      "source": [
        "p = bayes_model(data, w, b) # now we have probabilities of each instance\n",
        "# It is better to have symmetric histogram (same number of instances > 0.5 and < 0.5)\n",
        "# in order to have balanced dataset\n",
        "plt.hist(p)"
      ],
      "execution_count": null,
      "outputs": [
        {
          "output_type": "execute_result",
          "data": {
            "text/plain": [
              "(array([294.,  60.,  49.,  43.,  42.,  41.,  54.,  58.,  67., 292.]),\n",
              " array([2.18259974e-05, 1.00019074e-01, 2.00016321e-01, 3.00013569e-01,\n",
              "        4.00010816e-01, 5.00008064e-01, 6.00005311e-01, 7.00002559e-01,\n",
              "        7.99999806e-01, 8.99997054e-01, 9.99994301e-01]),\n",
              " <a list of 10 Patch objects>)"
            ]
          },
          "metadata": {},
          "execution_count": 7
        },
        {
          "output_type": "display_data",
          "data": {
            "image/png": "[encoded data removed]",
            "text/plain": [
              "<Figure size 432x288 with 1 Axes>"
            ]
          },
          "metadata": {
            "needs_background": "light"
          }
        }
      ]
    },
    {
      "cell_type": "markdown",
      "metadata": {
        "id": "cxQcCYXMkDhK"
      },
      "source": [
        "Here we can generate labels for particular random seed:"
      ]
    },
    {
      "cell_type": "code",
      "metadata": {
        "id": "WvTTiZbOkDhM",
        "colab": {
          "base_uri": "https://localhost:8080/"
        },
        "outputId": "8322addd-09f1-4548-da11-0d041171e43f"
      },
      "source": [
        "y = np.random.binomial(1, p)\n",
        "data.shape, y.shape"
      ],
      "execution_count": null,
      "outputs": [
        {
          "output_type": "execute_result",
          "data": {
            "text/plain": [
              "((1000, 10), (1000,))"
            ]
          },
          "metadata": {},
          "execution_count": 8
        }
      ]
    },
    {
      "cell_type": "code",
      "source": [
        "X_train, X_test, y_train, y_test = train_test_split(\n",
        "...     data, y, test_size=0.33, random_state=77)"
      ],
      "metadata": {
        "id": "1bIEUCD9-Sm9"
      },
      "execution_count": null,
      "outputs": []
    },
    {
      "cell_type": "code",
      "metadata": {
        "id": "S8FFv_BmkDhM"
      },
      "source": [
        "lr = LogisticRegression()"
      ],
      "execution_count": null,
      "outputs": []
    },
    {
      "cell_type": "markdown",
      "metadata": {
        "id": "mtAr2TPOkDhM"
      },
      "source": [
        "We knew the ideal weights of LR model:"
      ]
    },
    {
      "cell_type": "code",
      "metadata": {
        "id": "RFXioiFUkDhN",
        "colab": {
          "base_uri": "https://localhost:8080/"
        },
        "outputId": "84bee38a-1932-4086-baa8-7e75693c68db"
      },
      "source": [
        "w, b"
      ],
      "execution_count": null,
      "outputs": [
        {
          "output_type": "execute_result",
          "data": {
            "text/plain": [
              "(array([ 1.52515703, -1.20022981, -0.55874169, -1.25594007, -0.25286215,\n",
              "         0.86484664,  3.02971869,  0.51384135, -0.121949  ,  0.08365329]),\n",
              " 0.16334935924074678)"
            ]
          },
          "metadata": {},
          "execution_count": 11
        }
      ]
    },
    {
      "cell_type": "code",
      "metadata": {
        "id": "-ChaNmJOkDhN"
      },
      "source": [
        "lr.fit(X_train, y_train)\n",
        "predictions = lr.predict(X_test)"
      ],
      "execution_count": null,
      "outputs": []
    },
    {
      "cell_type": "code",
      "source": [
        "score = lr.score(X_test, y_test)\n",
        "print(score)"
      ],
      "metadata": {
        "colab": {
          "base_uri": "https://localhost:8080/"
        },
        "id": "k57eergsThvW",
        "outputId": "ee508e6a-0cb8-4327-8040-06197a22147c"
      },
      "execution_count": null,
      "outputs": [
        {
          "output_type": "stream",
          "name": "stdout",
          "text": [
            "0.8818181818181818\n"
          ]
        }
      ]
    },
    {
      "cell_type": "markdown",
      "source": [
        "**Automated hyperparameter tuning for LR**"
      ],
      "metadata": {
        "id": "45K3bOBxLE5_"
      }
    },
    {
      "cell_type": "code",
      "source": [
        "param_grid = [    \n",
        "    {'penalty' : ['l1', 'l2', 'elasticnet', 'none'],\n",
        "    'C' : np.logspace(-4, 4, 20),\n",
        "    'solver' : ['lbfgs','newton-cg','liblinear','sag','saga'],\n",
        "    'max_iter' : [100, 1000,2500, 5000]\n",
        "    }\n",
        "]"
      ],
      "metadata": {
        "id": "QM_UmLA7ZdYy"
      },
      "execution_count": null,
      "outputs": []
    },
    {
      "cell_type": "code",
      "source": [
        "from sklearn.model_selection import GridSearchCV\n",
        "clf = GridSearchCV(lr, param_grid = param_grid, cv = 3, verbose=True, n_jobs=-1)"
      ],
      "metadata": {
        "id": "B-9A38MIZrkI"
      },
      "execution_count": null,
      "outputs": []
    },
    {
      "cell_type": "code",
      "source": [
        "best_clf = clf.fit(X_train,y_train)"
      ],
      "metadata": {
        "id": "cZIpHLT1Z1aq"
      },
      "execution_count": null,
      "outputs": []
    },
    {
      "cell_type": "code",
      "source": [
        "print (f'Accuracy - : {best_clf.score(X_test, y_test):}')"
      ],
      "metadata": {
        "colab": {
          "base_uri": "https://localhost:8080/"
        },
        "id": "SfuCYdKaZ86j",
        "outputId": "8c30a2f2-4748-43ba-d24a-194fa45457d8"
      },
      "execution_count": null,
      "outputs": [
        {
          "output_type": "stream",
          "name": "stdout",
          "text": [
            "Accuracy - : 0.8848484848484849\n"
          ]
        }
      ]
    },
    {
      "cell_type": "markdown",
      "source": [
        "**Manual hyperparameter tuning for LR**"
      ],
      "metadata": {
        "id": "ECc7TpBULRIS"
      }
    },
    {
      "cell_type": "code",
      "source": [
        "from time import time\n",
        "from sklearn.metrics import accuracy_score"
      ],
      "metadata": {
        "id": "jhhtGc2Afcdj"
      },
      "execution_count": null,
      "outputs": []
    },
    {
      "cell_type": "code",
      "source": [
        "def evaluate(X_tr, Y_tr, X_val, Y_val, params):\n",
        "    model = LogisticRegression()\n",
        "    #We should use set_params to pass parameters to model object.\n",
        "    model.set_params(**params)\n",
        "    \n",
        "    start=time()\n",
        "    model.fit(X_tr,Y_tr)\n",
        "    exec_time = time() - start\n",
        "    \n",
        "    Y_pred = model.predict(X_val)\n",
        "    acc = accuracy_score(Y_val,Y_pred) * 100.0\n",
        "    return acc, exec_time"
      ],
      "metadata": {
        "id": "AZVdh_CMcoHS"
      },
      "execution_count": null,
      "outputs": []
    },
    {
      "cell_type": "code",
      "source": [
        "C=0.001\n",
        "iterations = 1000\n",
        "results = np.zeros((iterations, 5))\n",
        "\n",
        "for i in range(0,iterations):    \n",
        "    model_params = {'C':C,'random_state':1}\n",
        "    acc_val,time_val = evaluate(X_train, y_train, X_test, y_test, model_params)\n",
        "    acc_tr,time_tr = evaluate(X_train, y_train, X_train, y_train, model_params)\n",
        "    results[i] = i+1, C, acc_tr, acc_val, time_val\n",
        "    C+=0.005\n",
        "\n",
        "res_df = pd.DataFrame(  data=results[0:,0:], \n",
        "                        index=results[0:,0],\n",
        "                        columns=['Sl','C','Train_acc','Val_acc','Build_time'])\n",
        "res_df['Sl'] = res_df['Sl'].astype(np.uint16)\n",
        "res_df.head()\n"
      ],
      "metadata": {
        "colab": {
          "base_uri": "https://localhost:8080/",
          "height": 206
        },
        "id": "5MQSROsDd5EP",
        "outputId": "5c045f2b-4e15-4752-cb5a-efc6f09d21fc"
      },
      "execution_count": null,
      "outputs": [
        {
          "output_type": "execute_result",
          "data": {
            "text/html": [
              "<div>\n",
              "<style scoped>\n",
              "    .dataframe tbody tr th:only-of-type {\n",
              "        vertical-align: middle;\n",
              "    }\n",
              "\n",
              "    .dataframe tbody tr th {\n",
              "        vertical-align: top;\n",
              "    }\n",
              "\n",
              "    .dataframe thead th {\n",
              "        text-align: right;\n",
              "    }\n",
              "</style>\n",
              "<table border=\"1\" class=\"dataframe\">\n",
              "  <thead>\n",
              "    <tr style=\"text-align: right;\">\n",
              "      <th></th>\n",
              "      <th>Sl</th>\n",
              "      <th>C</th>\n",
              "      <th>Train_acc</th>\n",
              "      <th>Val_acc</th>\n",
              "      <th>Build_time</th>\n",
              "    </tr>\n",
              "  </thead>\n",
              "  <tbody>\n",
              "    <tr>\n",
              "      <th>1.0</th>\n",
              "      <td>1</td>\n",
              "      <td>0.001</td>\n",
              "      <td>77.761194</td>\n",
              "      <td>73.333333</td>\n",
              "      <td>0.003977</td>\n",
              "    </tr>\n",
              "    <tr>\n",
              "      <th>2.0</th>\n",
              "      <td>2</td>\n",
              "      <td>0.006</td>\n",
              "      <td>86.268657</td>\n",
              "      <td>87.272727</td>\n",
              "      <td>0.004561</td>\n",
              "    </tr>\n",
              "    <tr>\n",
              "      <th>3.0</th>\n",
              "      <td>3</td>\n",
              "      <td>0.011</td>\n",
              "      <td>86.716418</td>\n",
              "      <td>87.272727</td>\n",
              "      <td>0.003087</td>\n",
              "    </tr>\n",
              "    <tr>\n",
              "      <th>4.0</th>\n",
              "      <td>4</td>\n",
              "      <td>0.016</td>\n",
              "      <td>86.865672</td>\n",
              "      <td>86.969697</td>\n",
              "      <td>0.003844</td>\n",
              "    </tr>\n",
              "    <tr>\n",
              "      <th>5.0</th>\n",
              "      <td>5</td>\n",
              "      <td>0.021</td>\n",
              "      <td>86.716418</td>\n",
              "      <td>86.969697</td>\n",
              "      <td>0.003019</td>\n",
              "    </tr>\n",
              "  </tbody>\n",
              "</table>\n",
              "</div>"
            ],
            "text/plain": [
              "     Sl      C  Train_acc    Val_acc  Build_time\n",
              "1.0   1  0.001  77.761194  73.333333    0.003977\n",
              "2.0   2  0.006  86.268657  87.272727    0.004561\n",
              "3.0   3  0.011  86.716418  87.272727    0.003087\n",
              "4.0   4  0.016  86.865672  86.969697    0.003844\n",
              "5.0   5  0.021  86.716418  86.969697    0.003019"
            ]
          },
          "metadata": {},
          "execution_count": 20
        }
      ]
    },
    {
      "cell_type": "code",
      "source": [
        "res_df"
      ],
      "metadata": {
        "colab": {
          "base_uri": "https://localhost:8080/",
          "height": 424
        },
        "id": "r0mxfZBTIocL",
        "outputId": "8de4bb9a-df75-4028-e932-edfed51c67a5"
      },
      "execution_count": null,
      "outputs": [
        {
          "output_type": "execute_result",
          "data": {
            "text/html": [
              "<div>\n",
              "<style scoped>\n",
              "    .dataframe tbody tr th:only-of-type {\n",
              "        vertical-align: middle;\n",
              "    }\n",
              "\n",
              "    .dataframe tbody tr th {\n",
              "        vertical-align: top;\n",
              "    }\n",
              "\n",
              "    .dataframe thead th {\n",
              "        text-align: right;\n",
              "    }\n",
              "</style>\n",
              "<table border=\"1\" class=\"dataframe\">\n",
              "  <thead>\n",
              "    <tr style=\"text-align: right;\">\n",
              "      <th></th>\n",
              "      <th>Sl</th>\n",
              "      <th>C</th>\n",
              "      <th>Train_acc</th>\n",
              "      <th>Val_acc</th>\n",
              "      <th>Build_time</th>\n",
              "    </tr>\n",
              "  </thead>\n",
              "  <tbody>\n",
              "    <tr>\n",
              "      <th>1.0</th>\n",
              "      <td>1</td>\n",
              "      <td>0.001</td>\n",
              "      <td>77.761194</td>\n",
              "      <td>73.333333</td>\n",
              "      <td>0.003977</td>\n",
              "    </tr>\n",
              "    <tr>\n",
              "      <th>2.0</th>\n",
              "      <td>2</td>\n",
              "      <td>0.006</td>\n",
              "      <td>86.268657</td>\n",
              "      <td>87.272727</td>\n",
              "      <td>0.004561</td>\n",
              "    </tr>\n",
              "    <tr>\n",
              "      <th>3.0</th>\n",
              "      <td>3</td>\n",
              "      <td>0.011</td>\n",
              "      <td>86.716418</td>\n",
              "      <td>87.272727</td>\n",
              "      <td>0.003087</td>\n",
              "    </tr>\n",
              "    <tr>\n",
              "      <th>4.0</th>\n",
              "      <td>4</td>\n",
              "      <td>0.016</td>\n",
              "      <td>86.865672</td>\n",
              "      <td>86.969697</td>\n",
              "      <td>0.003844</td>\n",
              "    </tr>\n",
              "    <tr>\n",
              "      <th>5.0</th>\n",
              "      <td>5</td>\n",
              "      <td>0.021</td>\n",
              "      <td>86.716418</td>\n",
              "      <td>86.969697</td>\n",
              "      <td>0.003019</td>\n",
              "    </tr>\n",
              "    <tr>\n",
              "      <th>...</th>\n",
              "      <td>...</td>\n",
              "      <td>...</td>\n",
              "      <td>...</td>\n",
              "      <td>...</td>\n",
              "      <td>...</td>\n",
              "    </tr>\n",
              "    <tr>\n",
              "      <th>996.0</th>\n",
              "      <td>996</td>\n",
              "      <td>4.976</td>\n",
              "      <td>87.014925</td>\n",
              "      <td>88.181818</td>\n",
              "      <td>0.004034</td>\n",
              "    </tr>\n",
              "    <tr>\n",
              "      <th>997.0</th>\n",
              "      <td>997</td>\n",
              "      <td>4.981</td>\n",
              "      <td>87.014925</td>\n",
              "      <td>88.181818</td>\n",
              "      <td>0.003875</td>\n",
              "    </tr>\n",
              "    <tr>\n",
              "      <th>998.0</th>\n",
              "      <td>998</td>\n",
              "      <td>4.986</td>\n",
              "      <td>87.014925</td>\n",
              "      <td>88.181818</td>\n",
              "      <td>0.003854</td>\n",
              "    </tr>\n",
              "    <tr>\n",
              "      <th>999.0</th>\n",
              "      <td>999</td>\n",
              "      <td>4.991</td>\n",
              "      <td>87.014925</td>\n",
              "      <td>88.181818</td>\n",
              "      <td>0.005348</td>\n",
              "    </tr>\n",
              "    <tr>\n",
              "      <th>1000.0</th>\n",
              "      <td>1000</td>\n",
              "      <td>4.996</td>\n",
              "      <td>87.014925</td>\n",
              "      <td>88.181818</td>\n",
              "      <td>0.005487</td>\n",
              "    </tr>\n",
              "  </tbody>\n",
              "</table>\n",
              "<p>1000 rows × 5 columns</p>\n",
              "</div>"
            ],
            "text/plain": [
              "          Sl      C  Train_acc    Val_acc  Build_time\n",
              "1.0        1  0.001  77.761194  73.333333    0.003977\n",
              "2.0        2  0.006  86.268657  87.272727    0.004561\n",
              "3.0        3  0.011  86.716418  87.272727    0.003087\n",
              "4.0        4  0.016  86.865672  86.969697    0.003844\n",
              "5.0        5  0.021  86.716418  86.969697    0.003019\n",
              "...      ...    ...        ...        ...         ...\n",
              "996.0    996  4.976  87.014925  88.181818    0.004034\n",
              "997.0    997  4.981  87.014925  88.181818    0.003875\n",
              "998.0    998  4.986  87.014925  88.181818    0.003854\n",
              "999.0    999  4.991  87.014925  88.181818    0.005348\n",
              "1000.0  1000  4.996  87.014925  88.181818    0.005487\n",
              "\n",
              "[1000 rows x 5 columns]"
            ]
          },
          "metadata": {},
          "execution_count": 21
        }
      ]
    },
    {
      "cell_type": "code",
      "source": [
        "plt.xlabel('C')\n",
        "plt.ylabel('Accuracy')\n",
        "plt.title('Train & Validation Set Accuracy w.r.t to Regularization parameter C')\n",
        "plt.grid(True)\n",
        "plt.plot(res_df['C'], res_df['Train_acc'] , 'r*-') # plotting train_acc  \n",
        "plt.plot(res_df['C'], res_df['Val_acc'] , 'b.') # plotting val_acc"
      ],
      "metadata": {
        "colab": {
          "base_uri": "https://localhost:8080/",
          "height": 312
        },
        "id": "2Pa14ijlBgpI",
        "outputId": "c73e4fd3-e712-4240-ce7c-9cad82e335fb"
      },
      "execution_count": null,
      "outputs": [
        {
          "output_type": "execute_result",
          "data": {
            "text/plain": [
              "[<matplotlib.lines.Line2D at 0x7fd01cf27190>]"
            ]
          },
          "metadata": {},
          "execution_count": 22
        },
        {
          "output_type": "display_data",
          "data": {
            "image/png": "[encoded data removed]",
            "text/plain": [
              "<Figure size 432x288 with 1 Axes>"
            ]
          },
          "metadata": {
            "needs_background": "light"
          }
        }
      ]
    },
    {
      "cell_type": "code",
      "source": [
        "#tol=1e-6\n",
        "tol=1e-10\n",
        "#iterations = 50\n",
        "iterations = 37\n",
        "results = np.zeros((iterations, 5))\n",
        "\n",
        "for i in range(0,iterations):    \n",
        "    model_params = {'tol':tol,'random_state':1}\n",
        "    acc_val,time_val = evaluate(X_train, y_train, X_test, y_test, model_params)\n",
        "    acc_tr,time_tr = evaluate(X_train, y_train, X_train, y_train, model_params)\n",
        "    results[i] = i+1, tol, acc_tr, acc_val, time_val\n",
        "    #tol*=5\n",
        "    tol*=2\n",
        "    #print(tol)\n",
        "\n",
        "res_df_tol = pd.DataFrame(  data=results[0:,0:], \n",
        "                        index=results[0:,0],\n",
        "                        columns=['Sl','tol','Train_acc','Val_acc','Build_time'])\n",
        "res_df_tol['Sl'] = res_df['Sl'].astype(np.uint16)\n",
        "res_df_tol.head()"
      ],
      "metadata": {
        "colab": {
          "base_uri": "https://localhost:8080/",
          "height": 206
        },
        "id": "FK2-JnT1KGTs",
        "outputId": "dd1774c3-48a7-4e0d-93e6-1e542996ad73"
      },
      "execution_count": null,
      "outputs": [
        {
          "output_type": "execute_result",
          "data": {
            "text/html": [
              "<div>\n",
              "<style scoped>\n",
              "    .dataframe tbody tr th:only-of-type {\n",
              "        vertical-align: middle;\n",
              "    }\n",
              "\n",
              "    .dataframe tbody tr th {\n",
              "        vertical-align: top;\n",
              "    }\n",
              "\n",
              "    .dataframe thead th {\n",
              "        text-align: right;\n",
              "    }\n",
              "</style>\n",
              "<table border=\"1\" class=\"dataframe\">\n",
              "  <thead>\n",
              "    <tr style=\"text-align: right;\">\n",
              "      <th></th>\n",
              "      <th>Sl</th>\n",
              "      <th>tol</th>\n",
              "      <th>Train_acc</th>\n",
              "      <th>Val_acc</th>\n",
              "      <th>Build_time</th>\n",
              "    </tr>\n",
              "  </thead>\n",
              "  <tbody>\n",
              "    <tr>\n",
              "      <th>1.0</th>\n",
              "      <td>1</td>\n",
              "      <td>1.000000e-10</td>\n",
              "      <td>87.014925</td>\n",
              "      <td>88.181818</td>\n",
              "      <td>0.004477</td>\n",
              "    </tr>\n",
              "    <tr>\n",
              "      <th>2.0</th>\n",
              "      <td>2</td>\n",
              "      <td>2.000000e-10</td>\n",
              "      <td>87.014925</td>\n",
              "      <td>88.181818</td>\n",
              "      <td>0.003837</td>\n",
              "    </tr>\n",
              "    <tr>\n",
              "      <th>3.0</th>\n",
              "      <td>3</td>\n",
              "      <td>4.000000e-10</td>\n",
              "      <td>87.014925</td>\n",
              "      <td>88.181818</td>\n",
              "      <td>0.003862</td>\n",
              "    </tr>\n",
              "    <tr>\n",
              "      <th>4.0</th>\n",
              "      <td>4</td>\n",
              "      <td>8.000000e-10</td>\n",
              "      <td>87.014925</td>\n",
              "      <td>88.181818</td>\n",
              "      <td>0.004720</td>\n",
              "    </tr>\n",
              "    <tr>\n",
              "      <th>5.0</th>\n",
              "      <td>5</td>\n",
              "      <td>1.600000e-09</td>\n",
              "      <td>87.014925</td>\n",
              "      <td>88.181818</td>\n",
              "      <td>0.004087</td>\n",
              "    </tr>\n",
              "  </tbody>\n",
              "</table>\n",
              "</div>"
            ],
            "text/plain": [
              "     Sl           tol  Train_acc    Val_acc  Build_time\n",
              "1.0   1  1.000000e-10  87.014925  88.181818    0.004477\n",
              "2.0   2  2.000000e-10  87.014925  88.181818    0.003837\n",
              "3.0   3  4.000000e-10  87.014925  88.181818    0.003862\n",
              "4.0   4  8.000000e-10  87.014925  88.181818    0.004720\n",
              "5.0   5  1.600000e-09  87.014925  88.181818    0.004087"
            ]
          },
          "metadata": {},
          "execution_count": 23
        }
      ]
    },
    {
      "cell_type": "code",
      "source": [
        "#Variation of C wrt to the Solver\n",
        "\n",
        "C=0.001\n",
        "iterations = 1000\n",
        "\n",
        "# There are 5 solvers. For each, we need to see their accuracy on train & validation sets plus their build time.\n",
        "# Additionaly, first two columns are Sl & C. Hence, a total of (5*3) + 2 = 17 columns required.\n",
        "results = np.zeros((iterations, 17))\n",
        "solver_list = ['liblinear', 'newton-cg', 'lbfgs', 'sag', 'saga']\n",
        "\n",
        "for i in range(0,iterations):    \n",
        "    model_params = {'C':C,'random_state':1}\n",
        "    results[i][0:2] = i+1, C\n",
        "    \n",
        "    j = 2 #internal counter for iterating over each of the solver's results values\n",
        "    for solver in solver_list:\n",
        "        model_params.update({'solver': solver})\n",
        "        acc_val,time_val = evaluate(X_train, y_train, X_test, y_test, model_params)\n",
        "        acc_tr,time_tr = evaluate(X_train, y_train, X_train, y_train, model_params)\n",
        "        results[i][j:j+3] = acc_tr, acc_val, time_val\n",
        "        j+=3\n",
        "        \n",
        "    C+=0.005\n",
        "\n",
        "columns = ['Sl','C']\n",
        "for solver in solver_list:\n",
        "    columns.append('Train_acc_'+solver)\n",
        "    columns.append('Val_acc_'+solver)\n",
        "    columns.append('Build_time_'+solver)\n",
        "\n",
        "res_df_solver_C = pd.DataFrame( data=results[0:,0:], \n",
        "                                  index=results[0:,0],\n",
        "                                  columns=columns)\n",
        "res_df_solver_C['Sl'] = res_df_solver_C['Sl'].astype(np.uint16)\n",
        "res_df_solver_C.head()\n"
      ],
      "metadata": {
        "colab": {
          "base_uri": "https://localhost:8080/",
          "height": 244
        },
        "id": "1wseyFDbJO_H",
        "outputId": "7e8b405a-f2c3-4782-948f-9d764366002e"
      },
      "execution_count": null,
      "outputs": [
        {
          "output_type": "execute_result",
          "data": {
            "text/html": [
              "<div>\n",
              "<style scoped>\n",
              "    .dataframe tbody tr th:only-of-type {\n",
              "        vertical-align: middle;\n",
              "    }\n",
              "\n",
              "    .dataframe tbody tr th {\n",
              "        vertical-align: top;\n",
              "    }\n",
              "\n",
              "    .dataframe thead th {\n",
              "        text-align: right;\n",
              "    }\n",
              "</style>\n",
              "<table border=\"1\" class=\"dataframe\">\n",
              "  <thead>\n",
              "    <tr style=\"text-align: right;\">\n",
              "      <th></th>\n",
              "      <th>Sl</th>\n",
              "      <th>C</th>\n",
              "      <th>Train_acc_liblinear</th>\n",
              "      <th>Val_acc_liblinear</th>\n",
              "      <th>Build_time_liblinear</th>\n",
              "      <th>Train_acc_newton-cg</th>\n",
              "      <th>Val_acc_newton-cg</th>\n",
              "      <th>Build_time_newton-cg</th>\n",
              "      <th>Train_acc_lbfgs</th>\n",
              "      <th>Val_acc_lbfgs</th>\n",
              "      <th>Build_time_lbfgs</th>\n",
              "      <th>Train_acc_sag</th>\n",
              "      <th>Val_acc_sag</th>\n",
              "      <th>Build_time_sag</th>\n",
              "      <th>Train_acc_saga</th>\n",
              "      <th>Val_acc_saga</th>\n",
              "      <th>Build_time_saga</th>\n",
              "    </tr>\n",
              "  </thead>\n",
              "  <tbody>\n",
              "    <tr>\n",
              "      <th>1.0</th>\n",
              "      <td>1</td>\n",
              "      <td>0.001</td>\n",
              "      <td>85.820896</td>\n",
              "      <td>86.969697</td>\n",
              "      <td>0.002791</td>\n",
              "      <td>77.761194</td>\n",
              "      <td>73.333333</td>\n",
              "      <td>0.005059</td>\n",
              "      <td>77.761194</td>\n",
              "      <td>73.333333</td>\n",
              "      <td>0.003447</td>\n",
              "      <td>77.761194</td>\n",
              "      <td>73.333333</td>\n",
              "      <td>0.003913</td>\n",
              "      <td>77.761194</td>\n",
              "      <td>73.333333</td>\n",
              "      <td>0.003539</td>\n",
              "    </tr>\n",
              "    <tr>\n",
              "      <th>2.0</th>\n",
              "      <td>2</td>\n",
              "      <td>0.006</td>\n",
              "      <td>85.970149</td>\n",
              "      <td>86.969697</td>\n",
              "      <td>0.001452</td>\n",
              "      <td>86.268657</td>\n",
              "      <td>87.272727</td>\n",
              "      <td>0.006811</td>\n",
              "      <td>86.268657</td>\n",
              "      <td>87.272727</td>\n",
              "      <td>0.003350</td>\n",
              "      <td>86.268657</td>\n",
              "      <td>87.272727</td>\n",
              "      <td>0.003152</td>\n",
              "      <td>86.268657</td>\n",
              "      <td>87.272727</td>\n",
              "      <td>0.003484</td>\n",
              "    </tr>\n",
              "    <tr>\n",
              "      <th>3.0</th>\n",
              "      <td>3</td>\n",
              "      <td>0.011</td>\n",
              "      <td>86.119403</td>\n",
              "      <td>86.969697</td>\n",
              "      <td>0.001857</td>\n",
              "      <td>86.716418</td>\n",
              "      <td>87.272727</td>\n",
              "      <td>0.006360</td>\n",
              "      <td>86.716418</td>\n",
              "      <td>87.272727</td>\n",
              "      <td>0.004397</td>\n",
              "      <td>86.716418</td>\n",
              "      <td>87.272727</td>\n",
              "      <td>0.004029</td>\n",
              "      <td>86.716418</td>\n",
              "      <td>87.272727</td>\n",
              "      <td>0.003132</td>\n",
              "    </tr>\n",
              "    <tr>\n",
              "      <th>4.0</th>\n",
              "      <td>4</td>\n",
              "      <td>0.016</td>\n",
              "      <td>86.268657</td>\n",
              "      <td>86.969697</td>\n",
              "      <td>0.001908</td>\n",
              "      <td>86.865672</td>\n",
              "      <td>86.969697</td>\n",
              "      <td>0.007048</td>\n",
              "      <td>86.865672</td>\n",
              "      <td>86.969697</td>\n",
              "      <td>0.003523</td>\n",
              "      <td>86.865672</td>\n",
              "      <td>86.969697</td>\n",
              "      <td>0.004281</td>\n",
              "      <td>86.865672</td>\n",
              "      <td>86.969697</td>\n",
              "      <td>0.003224</td>\n",
              "    </tr>\n",
              "    <tr>\n",
              "      <th>5.0</th>\n",
              "      <td>5</td>\n",
              "      <td>0.021</td>\n",
              "      <td>86.119403</td>\n",
              "      <td>86.969697</td>\n",
              "      <td>0.001823</td>\n",
              "      <td>86.716418</td>\n",
              "      <td>86.969697</td>\n",
              "      <td>0.006833</td>\n",
              "      <td>86.716418</td>\n",
              "      <td>86.969697</td>\n",
              "      <td>0.003455</td>\n",
              "      <td>86.716418</td>\n",
              "      <td>86.969697</td>\n",
              "      <td>0.004552</td>\n",
              "      <td>86.716418</td>\n",
              "      <td>86.969697</td>\n",
              "      <td>0.003452</td>\n",
              "    </tr>\n",
              "  </tbody>\n",
              "</table>\n",
              "</div>"
            ],
            "text/plain": [
              "     Sl      C  ...  Val_acc_saga  Build_time_saga\n",
              "1.0   1  0.001  ...     73.333333         0.003539\n",
              "2.0   2  0.006  ...     87.272727         0.003484\n",
              "3.0   3  0.011  ...     87.272727         0.003132\n",
              "4.0   4  0.016  ...     86.969697         0.003224\n",
              "5.0   5  0.021  ...     86.969697         0.003452\n",
              "\n",
              "[5 rows x 17 columns]"
            ]
          },
          "metadata": {},
          "execution_count": 24
        }
      ]
    },
    {
      "cell_type": "code",
      "source": [
        "res_df_solver_C"
      ],
      "metadata": {
        "colab": {
          "base_uri": "https://localhost:8080/",
          "height": 461
        },
        "id": "fIf-xpM3JqDs",
        "outputId": "bdfd7eab-c4ab-4bb9-bdfd-9e81ab026a1f"
      },
      "execution_count": null,
      "outputs": [
        {
          "output_type": "execute_result",
          "data": {
            "text/html": [
              "<div>\n",
              "<style scoped>\n",
              "    .dataframe tbody tr th:only-of-type {\n",
              "        vertical-align: middle;\n",
              "    }\n",
              "\n",
              "    .dataframe tbody tr th {\n",
              "        vertical-align: top;\n",
              "    }\n",
              "\n",
              "    .dataframe thead th {\n",
              "        text-align: right;\n",
              "    }\n",
              "</style>\n",
              "<table border=\"1\" class=\"dataframe\">\n",
              "  <thead>\n",
              "    <tr style=\"text-align: right;\">\n",
              "      <th></th>\n",
              "      <th>Sl</th>\n",
              "      <th>C</th>\n",
              "      <th>Train_acc_liblinear</th>\n",
              "      <th>Val_acc_liblinear</th>\n",
              "      <th>Build_time_liblinear</th>\n",
              "      <th>Train_acc_newton-cg</th>\n",
              "      <th>Val_acc_newton-cg</th>\n",
              "      <th>Build_time_newton-cg</th>\n",
              "      <th>Train_acc_lbfgs</th>\n",
              "      <th>Val_acc_lbfgs</th>\n",
              "      <th>Build_time_lbfgs</th>\n",
              "      <th>Train_acc_sag</th>\n",
              "      <th>Val_acc_sag</th>\n",
              "      <th>Build_time_sag</th>\n",
              "      <th>Train_acc_saga</th>\n",
              "      <th>Val_acc_saga</th>\n",
              "      <th>Build_time_saga</th>\n",
              "    </tr>\n",
              "  </thead>\n",
              "  <tbody>\n",
              "    <tr>\n",
              "      <th>1.0</th>\n",
              "      <td>1</td>\n",
              "      <td>0.001</td>\n",
              "      <td>85.820896</td>\n",
              "      <td>86.969697</td>\n",
              "      <td>0.002791</td>\n",
              "      <td>77.761194</td>\n",
              "      <td>73.333333</td>\n",
              "      <td>0.005059</td>\n",
              "      <td>77.761194</td>\n",
              "      <td>73.333333</td>\n",
              "      <td>0.003447</td>\n",
              "      <td>77.761194</td>\n",
              "      <td>73.333333</td>\n",
              "      <td>0.003913</td>\n",
              "      <td>77.761194</td>\n",
              "      <td>73.333333</td>\n",
              "      <td>0.003539</td>\n",
              "    </tr>\n",
              "    <tr>\n",
              "      <th>2.0</th>\n",
              "      <td>2</td>\n",
              "      <td>0.006</td>\n",
              "      <td>85.970149</td>\n",
              "      <td>86.969697</td>\n",
              "      <td>0.001452</td>\n",
              "      <td>86.268657</td>\n",
              "      <td>87.272727</td>\n",
              "      <td>0.006811</td>\n",
              "      <td>86.268657</td>\n",
              "      <td>87.272727</td>\n",
              "      <td>0.003350</td>\n",
              "      <td>86.268657</td>\n",
              "      <td>87.272727</td>\n",
              "      <td>0.003152</td>\n",
              "      <td>86.268657</td>\n",
              "      <td>87.272727</td>\n",
              "      <td>0.003484</td>\n",
              "    </tr>\n",
              "    <tr>\n",
              "      <th>3.0</th>\n",
              "      <td>3</td>\n",
              "      <td>0.011</td>\n",
              "      <td>86.119403</td>\n",
              "      <td>86.969697</td>\n",
              "      <td>0.001857</td>\n",
              "      <td>86.716418</td>\n",
              "      <td>87.272727</td>\n",
              "      <td>0.006360</td>\n",
              "      <td>86.716418</td>\n",
              "      <td>87.272727</td>\n",
              "      <td>0.004397</td>\n",
              "      <td>86.716418</td>\n",
              "      <td>87.272727</td>\n",
              "      <td>0.004029</td>\n",
              "      <td>86.716418</td>\n",
              "      <td>87.272727</td>\n",
              "      <td>0.003132</td>\n",
              "    </tr>\n",
              "    <tr>\n",
              "      <th>4.0</th>\n",
              "      <td>4</td>\n",
              "      <td>0.016</td>\n",
              "      <td>86.268657</td>\n",
              "      <td>86.969697</td>\n",
              "      <td>0.001908</td>\n",
              "      <td>86.865672</td>\n",
              "      <td>86.969697</td>\n",
              "      <td>0.007048</td>\n",
              "      <td>86.865672</td>\n",
              "      <td>86.969697</td>\n",
              "      <td>0.003523</td>\n",
              "      <td>86.865672</td>\n",
              "      <td>86.969697</td>\n",
              "      <td>0.004281</td>\n",
              "      <td>86.865672</td>\n",
              "      <td>86.969697</td>\n",
              "      <td>0.003224</td>\n",
              "    </tr>\n",
              "    <tr>\n",
              "      <th>5.0</th>\n",
              "      <td>5</td>\n",
              "      <td>0.021</td>\n",
              "      <td>86.119403</td>\n",
              "      <td>86.969697</td>\n",
              "      <td>0.001823</td>\n",
              "      <td>86.716418</td>\n",
              "      <td>86.969697</td>\n",
              "      <td>0.006833</td>\n",
              "      <td>86.716418</td>\n",
              "      <td>86.969697</td>\n",
              "      <td>0.003455</td>\n",
              "      <td>86.716418</td>\n",
              "      <td>86.969697</td>\n",
              "      <td>0.004552</td>\n",
              "      <td>86.716418</td>\n",
              "      <td>86.969697</td>\n",
              "      <td>0.003452</td>\n",
              "    </tr>\n",
              "    <tr>\n",
              "      <th>...</th>\n",
              "      <td>...</td>\n",
              "      <td>...</td>\n",
              "      <td>...</td>\n",
              "      <td>...</td>\n",
              "      <td>...</td>\n",
              "      <td>...</td>\n",
              "      <td>...</td>\n",
              "      <td>...</td>\n",
              "      <td>...</td>\n",
              "      <td>...</td>\n",
              "      <td>...</td>\n",
              "      <td>...</td>\n",
              "      <td>...</td>\n",
              "      <td>...</td>\n",
              "      <td>...</td>\n",
              "      <td>...</td>\n",
              "      <td>...</td>\n",
              "    </tr>\n",
              "    <tr>\n",
              "      <th>996.0</th>\n",
              "      <td>996</td>\n",
              "      <td>4.976</td>\n",
              "      <td>87.014925</td>\n",
              "      <td>88.181818</td>\n",
              "      <td>0.001703</td>\n",
              "      <td>87.014925</td>\n",
              "      <td>88.181818</td>\n",
              "      <td>0.007423</td>\n",
              "      <td>87.014925</td>\n",
              "      <td>88.181818</td>\n",
              "      <td>0.004100</td>\n",
              "      <td>87.014925</td>\n",
              "      <td>88.181818</td>\n",
              "      <td>0.004522</td>\n",
              "      <td>87.014925</td>\n",
              "      <td>88.181818</td>\n",
              "      <td>0.003569</td>\n",
              "    </tr>\n",
              "    <tr>\n",
              "      <th>997.0</th>\n",
              "      <td>997</td>\n",
              "      <td>4.981</td>\n",
              "      <td>87.014925</td>\n",
              "      <td>88.181818</td>\n",
              "      <td>0.001710</td>\n",
              "      <td>87.014925</td>\n",
              "      <td>88.181818</td>\n",
              "      <td>0.007799</td>\n",
              "      <td>87.014925</td>\n",
              "      <td>88.181818</td>\n",
              "      <td>0.004610</td>\n",
              "      <td>87.014925</td>\n",
              "      <td>88.181818</td>\n",
              "      <td>0.005123</td>\n",
              "      <td>87.014925</td>\n",
              "      <td>88.181818</td>\n",
              "      <td>0.003806</td>\n",
              "    </tr>\n",
              "    <tr>\n",
              "      <th>998.0</th>\n",
              "      <td>998</td>\n",
              "      <td>4.986</td>\n",
              "      <td>87.014925</td>\n",
              "      <td>88.181818</td>\n",
              "      <td>0.001826</td>\n",
              "      <td>87.014925</td>\n",
              "      <td>88.181818</td>\n",
              "      <td>0.007475</td>\n",
              "      <td>87.014925</td>\n",
              "      <td>88.181818</td>\n",
              "      <td>0.004061</td>\n",
              "      <td>87.014925</td>\n",
              "      <td>88.181818</td>\n",
              "      <td>0.004497</td>\n",
              "      <td>87.014925</td>\n",
              "      <td>88.181818</td>\n",
              "      <td>0.004061</td>\n",
              "    </tr>\n",
              "    <tr>\n",
              "      <th>999.0</th>\n",
              "      <td>999</td>\n",
              "      <td>4.991</td>\n",
              "      <td>87.014925</td>\n",
              "      <td>88.181818</td>\n",
              "      <td>0.001900</td>\n",
              "      <td>87.014925</td>\n",
              "      <td>88.181818</td>\n",
              "      <td>0.009103</td>\n",
              "      <td>87.014925</td>\n",
              "      <td>88.181818</td>\n",
              "      <td>0.003974</td>\n",
              "      <td>87.014925</td>\n",
              "      <td>88.181818</td>\n",
              "      <td>0.005406</td>\n",
              "      <td>87.014925</td>\n",
              "      <td>88.181818</td>\n",
              "      <td>0.003803</td>\n",
              "    </tr>\n",
              "    <tr>\n",
              "      <th>1000.0</th>\n",
              "      <td>1000</td>\n",
              "      <td>4.996</td>\n",
              "      <td>87.014925</td>\n",
              "      <td>88.181818</td>\n",
              "      <td>0.001739</td>\n",
              "      <td>87.014925</td>\n",
              "      <td>88.181818</td>\n",
              "      <td>0.008526</td>\n",
              "      <td>87.014925</td>\n",
              "      <td>88.181818</td>\n",
              "      <td>0.004394</td>\n",
              "      <td>87.014925</td>\n",
              "      <td>88.181818</td>\n",
              "      <td>0.005470</td>\n",
              "      <td>87.014925</td>\n",
              "      <td>88.181818</td>\n",
              "      <td>0.004006</td>\n",
              "    </tr>\n",
              "  </tbody>\n",
              "</table>\n",
              "<p>1000 rows × 17 columns</p>\n",
              "</div>"
            ],
            "text/plain": [
              "          Sl      C  ...  Val_acc_saga  Build_time_saga\n",
              "1.0        1  0.001  ...     73.333333         0.003539\n",
              "2.0        2  0.006  ...     87.272727         0.003484\n",
              "3.0        3  0.011  ...     87.272727         0.003132\n",
              "4.0        4  0.016  ...     86.969697         0.003224\n",
              "5.0        5  0.021  ...     86.969697         0.003452\n",
              "...      ...    ...  ...           ...              ...\n",
              "996.0    996  4.976  ...     88.181818         0.003569\n",
              "997.0    997  4.981  ...     88.181818         0.003806\n",
              "998.0    998  4.986  ...     88.181818         0.004061\n",
              "999.0    999  4.991  ...     88.181818         0.003803\n",
              "1000.0  1000  4.996  ...     88.181818         0.004006\n",
              "\n",
              "[1000 rows x 17 columns]"
            ]
          },
          "metadata": {},
          "execution_count": 25
        }
      ]
    },
    {
      "cell_type": "markdown",
      "source": [
        "**Relatively big data**"
      ],
      "metadata": {
        "id": "lWUajyOtGse6"
      }
    },
    {
      "cell_type": "code",
      "source": [
        "k = 20 # number of features\n",
        "l = 10000 # number of instances in dataset\n",
        "newdata = np.random.normal(0, 1, (l, k))"
      ],
      "metadata": {
        "id": "PdquYIaJGvIG"
      },
      "execution_count": null,
      "outputs": []
    },
    {
      "cell_type": "code",
      "source": [
        "b = np.random.normal(0, 1)\n",
        "w = np.random.normal(0, 1, k)\n",
        "\n",
        "# Here we predefine our label generator\n",
        "\n",
        "def bayes_model(x, w, b):\n",
        "    \"\"\"\n",
        "    Input: feature x\n",
        "    Output: probabilty p to be positive\n",
        "    \"\"\"\n",
        "    return 1/(1+np.exp(-(np.dot(x, w) + b)))\n",
        "\n",
        "p = bayes_model(newdata, w, b) # now we have probabilities of each instance\n",
        "# It is better to have symmetric histogram (same number of instances > 0.5 and < 0.5)\n",
        "# in order to have balanced dataset\n",
        "plt.hist(p)"
      ],
      "metadata": {
        "colab": {
          "base_uri": "https://localhost:8080/",
          "height": 369
        },
        "id": "iu8-xzTXHHPC",
        "outputId": "d659b4dc-ce16-45e7-8929-f5d68ea9975a"
      },
      "execution_count": null,
      "outputs": [
        {
          "output_type": "execute_result",
          "data": {
            "text/plain": [
              "(array([3506.,  594.,  391.,  326.,  282.,  300.,  316.,  388.,  580.,\n",
              "        3317.]),\n",
              " array([8.61118588e-10, 1.00000001e-01, 2.00000000e-01, 3.00000000e-01,\n",
              "        3.99999999e-01, 4.99999999e-01, 5.99999999e-01, 6.99999998e-01,\n",
              "        7.99999998e-01, 8.99999998e-01, 9.99999997e-01]),\n",
              " <a list of 10 Patch objects>)"
            ]
          },
          "metadata": {},
          "execution_count": 48
        },
        {
          "output_type": "display_data",
          "data": {
            "image/png": "[encoded data removed]",
            "text/plain": [
              "<Figure size 432x288 with 1 Axes>"
            ]
          },
          "metadata": {
            "needs_background": "light"
          }
        }
      ]
    },
    {
      "cell_type": "code",
      "source": [
        "target = np.random.binomial(1, p)"
      ],
      "metadata": {
        "id": "x4MKUD32HgO2"
      },
      "execution_count": null,
      "outputs": []
    },
    {
      "cell_type": "code",
      "source": [
        "X_train, X_test, y_train, y_test = train_test_split(\n",
        "...     newdata, target, test_size=0.33, random_state=77)"
      ],
      "metadata": {
        "id": "maL7STjgH30s"
      },
      "execution_count": null,
      "outputs": []
    },
    {
      "cell_type": "code",
      "source": [
        "def evaluate(X_tr, Y_tr, X_val, Y_val, params):\n",
        "    model = LogisticRegression()\n",
        "    #We should use set_params to pass parameters to model object.\n",
        "    model.set_params(**params)\n",
        "    \n",
        "    start=time()\n",
        "    model.fit(X_tr,Y_tr)\n",
        "    exec_time = time() - start\n",
        "    \n",
        "    Y_pred = model.predict(X_val)\n",
        "    acc = accuracy_score(Y_val,Y_pred) * 100.0\n",
        "    return acc, exec_time"
      ],
      "metadata": {
        "id": "QJj_cWHIIVfX"
      },
      "execution_count": null,
      "outputs": []
    },
    {
      "cell_type": "code",
      "source": [
        "C=0.001\n",
        "iterations = 1000\n",
        "results = np.zeros((iterations, 5))\n",
        "\n",
        "for i in range(0,iterations):    \n",
        "    model_params = {'C':C,'random_state':1}\n",
        "    acc_val,time_val = evaluate(X_train, y_train, X_test, y_test, model_params)\n",
        "    acc_tr,time_tr = evaluate(X_train, y_train, X_train, y_train, model_params)\n",
        "    results[i] = i+1, C, acc_tr, acc_val, time_val\n",
        "    C+=0.005\n",
        "\n",
        "res_df = pd.DataFrame(  data=results[0:,0:], \n",
        "                        index=results[0:,0],\n",
        "                        columns=['Sl','C','Train_acc','Val_acc','Build_time'])\n",
        "res_df['Sl'] = res_df['Sl'].astype(np.uint16)\n",
        "res_df.head()"
      ],
      "metadata": {
        "colab": {
          "base_uri": "https://localhost:8080/",
          "height": 206
        },
        "id": "65p0r9uCIWxS",
        "outputId": "93f8fde7-7f65-40ff-b0f5-1ea25ed85b49"
      },
      "execution_count": null,
      "outputs": [
        {
          "output_type": "execute_result",
          "data": {
            "text/html": [
              "<div>\n",
              "<style scoped>\n",
              "    .dataframe tbody tr th:only-of-type {\n",
              "        vertical-align: middle;\n",
              "    }\n",
              "\n",
              "    .dataframe tbody tr th {\n",
              "        vertical-align: top;\n",
              "    }\n",
              "\n",
              "    .dataframe thead th {\n",
              "        text-align: right;\n",
              "    }\n",
              "</style>\n",
              "<table border=\"1\" class=\"dataframe\">\n",
              "  <thead>\n",
              "    <tr style=\"text-align: right;\">\n",
              "      <th></th>\n",
              "      <th>Sl</th>\n",
              "      <th>C</th>\n",
              "      <th>Train_acc</th>\n",
              "      <th>Val_acc</th>\n",
              "      <th>Build_time</th>\n",
              "    </tr>\n",
              "  </thead>\n",
              "  <tbody>\n",
              "    <tr>\n",
              "      <th>1.0</th>\n",
              "      <td>1</td>\n",
              "      <td>0.001</td>\n",
              "      <td>89.940299</td>\n",
              "      <td>90.000000</td>\n",
              "      <td>0.020243</td>\n",
              "    </tr>\n",
              "    <tr>\n",
              "      <th>2.0</th>\n",
              "      <td>2</td>\n",
              "      <td>0.006</td>\n",
              "      <td>90.000000</td>\n",
              "      <td>90.000000</td>\n",
              "      <td>0.023894</td>\n",
              "    </tr>\n",
              "    <tr>\n",
              "      <th>3.0</th>\n",
              "      <td>3</td>\n",
              "      <td>0.011</td>\n",
              "      <td>90.029851</td>\n",
              "      <td>89.939394</td>\n",
              "      <td>0.023087</td>\n",
              "    </tr>\n",
              "    <tr>\n",
              "      <th>4.0</th>\n",
              "      <td>4</td>\n",
              "      <td>0.016</td>\n",
              "      <td>90.000000</td>\n",
              "      <td>90.000000</td>\n",
              "      <td>0.015033</td>\n",
              "    </tr>\n",
              "    <tr>\n",
              "      <th>5.0</th>\n",
              "      <td>5</td>\n",
              "      <td>0.021</td>\n",
              "      <td>90.000000</td>\n",
              "      <td>89.969697</td>\n",
              "      <td>0.028266</td>\n",
              "    </tr>\n",
              "  </tbody>\n",
              "</table>\n",
              "</div>"
            ],
            "text/plain": [
              "     Sl      C  Train_acc    Val_acc  Build_time\n",
              "1.0   1  0.001  89.940299  90.000000    0.020243\n",
              "2.0   2  0.006  90.000000  90.000000    0.023894\n",
              "3.0   3  0.011  90.029851  89.939394    0.023087\n",
              "4.0   4  0.016  90.000000  90.000000    0.015033\n",
              "5.0   5  0.021  90.000000  89.969697    0.028266"
            ]
          },
          "metadata": {},
          "execution_count": 52
        }
      ]
    },
    {
      "cell_type": "code",
      "source": [
        "res_df"
      ],
      "metadata": {
        "colab": {
          "base_uri": "https://localhost:8080/",
          "height": 424
        },
        "id": "ZGhKww3rRz3m",
        "outputId": "b7e3ba8b-b0a6-4cae-8ae6-a77b3719a942"
      },
      "execution_count": null,
      "outputs": [
        {
          "output_type": "execute_result",
          "data": {
            "text/html": [
              "<div>\n",
              "<style scoped>\n",
              "    .dataframe tbody tr th:only-of-type {\n",
              "        vertical-align: middle;\n",
              "    }\n",
              "\n",
              "    .dataframe tbody tr th {\n",
              "        vertical-align: top;\n",
              "    }\n",
              "\n",
              "    .dataframe thead th {\n",
              "        text-align: right;\n",
              "    }\n",
              "</style>\n",
              "<table border=\"1\" class=\"dataframe\">\n",
              "  <thead>\n",
              "    <tr style=\"text-align: right;\">\n",
              "      <th></th>\n",
              "      <th>Sl</th>\n",
              "      <th>C</th>\n",
              "      <th>Train_acc</th>\n",
              "      <th>Val_acc</th>\n",
              "      <th>Build_time</th>\n",
              "    </tr>\n",
              "  </thead>\n",
              "  <tbody>\n",
              "    <tr>\n",
              "      <th>1.0</th>\n",
              "      <td>1</td>\n",
              "      <td>0.001</td>\n",
              "      <td>89.940299</td>\n",
              "      <td>90.000000</td>\n",
              "      <td>0.020243</td>\n",
              "    </tr>\n",
              "    <tr>\n",
              "      <th>2.0</th>\n",
              "      <td>2</td>\n",
              "      <td>0.006</td>\n",
              "      <td>90.000000</td>\n",
              "      <td>90.000000</td>\n",
              "      <td>0.023894</td>\n",
              "    </tr>\n",
              "    <tr>\n",
              "      <th>3.0</th>\n",
              "      <td>3</td>\n",
              "      <td>0.011</td>\n",
              "      <td>90.029851</td>\n",
              "      <td>89.939394</td>\n",
              "      <td>0.023087</td>\n",
              "    </tr>\n",
              "    <tr>\n",
              "      <th>4.0</th>\n",
              "      <td>4</td>\n",
              "      <td>0.016</td>\n",
              "      <td>90.000000</td>\n",
              "      <td>90.000000</td>\n",
              "      <td>0.015033</td>\n",
              "    </tr>\n",
              "    <tr>\n",
              "      <th>5.0</th>\n",
              "      <td>5</td>\n",
              "      <td>0.021</td>\n",
              "      <td>90.000000</td>\n",
              "      <td>89.969697</td>\n",
              "      <td>0.028266</td>\n",
              "    </tr>\n",
              "    <tr>\n",
              "      <th>...</th>\n",
              "      <td>...</td>\n",
              "      <td>...</td>\n",
              "      <td>...</td>\n",
              "      <td>...</td>\n",
              "      <td>...</td>\n",
              "    </tr>\n",
              "    <tr>\n",
              "      <th>996.0</th>\n",
              "      <td>996</td>\n",
              "      <td>4.976</td>\n",
              "      <td>90.089552</td>\n",
              "      <td>90.030303</td>\n",
              "      <td>0.019288</td>\n",
              "    </tr>\n",
              "    <tr>\n",
              "      <th>997.0</th>\n",
              "      <td>997</td>\n",
              "      <td>4.981</td>\n",
              "      <td>90.089552</td>\n",
              "      <td>90.030303</td>\n",
              "      <td>0.019595</td>\n",
              "    </tr>\n",
              "    <tr>\n",
              "      <th>998.0</th>\n",
              "      <td>998</td>\n",
              "      <td>4.986</td>\n",
              "      <td>90.089552</td>\n",
              "      <td>90.030303</td>\n",
              "      <td>0.019161</td>\n",
              "    </tr>\n",
              "    <tr>\n",
              "      <th>999.0</th>\n",
              "      <td>999</td>\n",
              "      <td>4.991</td>\n",
              "      <td>90.089552</td>\n",
              "      <td>90.030303</td>\n",
              "      <td>0.019998</td>\n",
              "    </tr>\n",
              "    <tr>\n",
              "      <th>1000.0</th>\n",
              "      <td>1000</td>\n",
              "      <td>4.996</td>\n",
              "      <td>90.089552</td>\n",
              "      <td>90.030303</td>\n",
              "      <td>0.018911</td>\n",
              "    </tr>\n",
              "  </tbody>\n",
              "</table>\n",
              "<p>1000 rows × 5 columns</p>\n",
              "</div>"
            ],
            "text/plain": [
              "          Sl      C  Train_acc    Val_acc  Build_time\n",
              "1.0        1  0.001  89.940299  90.000000    0.020243\n",
              "2.0        2  0.006  90.000000  90.000000    0.023894\n",
              "3.0        3  0.011  90.029851  89.939394    0.023087\n",
              "4.0        4  0.016  90.000000  90.000000    0.015033\n",
              "5.0        5  0.021  90.000000  89.969697    0.028266\n",
              "...      ...    ...        ...        ...         ...\n",
              "996.0    996  4.976  90.089552  90.030303    0.019288\n",
              "997.0    997  4.981  90.089552  90.030303    0.019595\n",
              "998.0    998  4.986  90.089552  90.030303    0.019161\n",
              "999.0    999  4.991  90.089552  90.030303    0.019998\n",
              "1000.0  1000  4.996  90.089552  90.030303    0.018911\n",
              "\n",
              "[1000 rows x 5 columns]"
            ]
          },
          "metadata": {},
          "execution_count": 54
        }
      ]
    },
    {
      "cell_type": "code",
      "source": [
        "plt.xlabel('C')\n",
        "plt.ylabel('Accuracy')\n",
        "plt.title('Train & Validation Set Accuracy w.r.t to Regularization parameter C')\n",
        "plt.grid(True)\n",
        "plt.plot(res_df['C'], res_df['Train_acc'] , 'r*-') # plotting t, a separately \n",
        "plt.plot(res_df['C'], res_df['Val_acc'] , 'b.') # plotting t, a separately"
      ],
      "metadata": {
        "colab": {
          "base_uri": "https://localhost:8080/",
          "height": 312
        },
        "id": "3VKcYrVIIf7i",
        "outputId": "185ba067-1199-48c1-a108-9eab1d62511d"
      },
      "execution_count": null,
      "outputs": [
        {
          "output_type": "execute_result",
          "data": {
            "text/plain": [
              "[<matplotlib.lines.Line2D at 0x7fd01bfd0bd0>]"
            ]
          },
          "metadata": {},
          "execution_count": 53
        },
        {
          "output_type": "display_data",
          "data": {
            "image/png": "[encoded data removed]",
            "text/plain": [
              "<Figure size 432x288 with 1 Axes>"
            ]
          },
          "metadata": {
            "needs_background": "light"
          }
        }
      ]
    },
    {
      "cell_type": "code",
      "source": [
        "#Variation of C wrt to the Solver\n",
        "\n",
        "C=0.001\n",
        "iterations = 1000\n",
        "\n",
        "# There are 5 solvers. For each, we need to see their accuracy on train & validation sets plus their build time.\n",
        "# Additionaly, first two columns are Sl & C. Hence, a total of (5*3) + 2 = 17 columns reqd.\n",
        "results = np.zeros((iterations, 17))\n",
        "solver_list = ['liblinear', 'newton-cg', 'lbfgs', 'sag', 'saga']\n",
        "\n",
        "for i in range(0,iterations):    \n",
        "    model_params = {'C':C,'random_state':1}\n",
        "    results[i][0:2] = i+1, C\n",
        "    \n",
        "    j = 2 #internal counter for iterating over each of the solver's results values\n",
        "    for solver in solver_list:\n",
        "        model_params.update({'solver': solver})\n",
        "        acc_val,time_val = evaluate(X_train, y_train, X_test, y_test, model_params)\n",
        "        acc_tr,time_tr = evaluate(X_train, y_train, X_train, y_train, model_params)\n",
        "        results[i][j:j+3] = acc_tr, acc_val, time_val\n",
        "        j+=3\n",
        "        \n",
        "    C+=0.005\n",
        "\n",
        "columns = ['Sl','C']\n",
        "for solver in solver_list:\n",
        "    columns.append('Train_acc_'+solver)\n",
        "    columns.append('Val_acc_'+solver)\n",
        "    columns.append('Build_time_'+solver)\n",
        "\n",
        "res_df_solver_C = pd.DataFrame( data=results[0:,0:], \n",
        "                                  index=results[0:,0],\n",
        "                                  columns=columns)\n",
        "res_df_solver_C['Sl'] = res_df_solver_C['Sl'].astype(np.uint16)\n",
        "res_df_solver_C.head()"
      ],
      "metadata": {
        "id": "PAWqjwA5Ij1j"
      },
      "execution_count": null,
      "outputs": []
    }
  ]
}